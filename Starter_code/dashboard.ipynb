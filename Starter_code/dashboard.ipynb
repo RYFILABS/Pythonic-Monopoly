{
 "cells": [
  {
   "cell_type": "markdown",
   "metadata": {},
   "source": [
    "# San Francisco Rental Prices Dashboard\n",
    "\n",
    "In this notebook, you will compile the visualizations from the previous analysis into functions that can be used for a Panel dashboard."
   ]
  },
  {
   "cell_type": "code",
   "execution_count": 5,
   "metadata": {},
   "outputs": [],
   "source": [
    "# imports\n",
    "import panel as pn\n",
    "pn.extension('plotly')\n",
    "import plotly.express as px\n",
    "import pandas as pd\n",
    "import hvplot.pandas\n",
    "import matplotlib.pyplot as plt\n",
    "import os\n",
    "from pathlib import Path\n",
    "from dotenv import load_dotenv\n",
    "\n",
    "import warnings\n",
    "warnings.filterwarnings('ignore')"
   ]
  },
  {
   "cell_type": "code",
   "execution_count": 6,
   "metadata": {},
   "outputs": [],
   "source": [
    "# Read the Mapbox API key\n",
    "load_dotenv()\n",
    "map_box_api = os.getenv(\"mapbox\")\n",
    "px.set_mapbox_access_token(map_box_api)"
   ]
  },
  {
   "cell_type": "markdown",
   "metadata": {},
   "source": [
    "# Import Data"
   ]
  },
  {
   "cell_type": "code",
   "execution_count": 7,
   "metadata": {},
   "outputs": [],
   "source": [
    "# Import the necessary CSVs to Pandas DataFrames\n",
    "\n",
    "# Read the Mapbox API key\n",
    "mapbox_token = os.getenv(\"mapbox\")\n",
    "\n",
    "file_path = Path(\"Data/sfo_neighborhoods_census_data.csv\")\n",
    "sfo_data = pd.read_csv(file_path, index_col=\"year\")\n",
    "\n",
    "file_path = Path(\"Data/neighborhoods_coordinates.csv\")\n",
    "df_neighborhood_locations = pd.read_csv(file_path)"
   ]
  },
  {
   "cell_type": "markdown",
   "metadata": {},
   "source": [
    "- - -"
   ]
  },
  {
   "cell_type": "markdown",
   "metadata": {},
   "source": [
    "## Panel Visualizations\n",
    "\n",
    "In this section, you will copy the code for each plot type from your analysis notebook and place it into separate functions that Panel can use to create panes for the dashboard. \n",
    "\n",
    "These functions will convert the plot object to a Panel pane.\n",
    "\n",
    "Be sure to include any DataFrame transformation/manipulation code required along with the plotting code.\n",
    "\n",
    "Return a Panel pane object from each function that can be used to build the dashboard.\n",
    "\n",
    "Note: Remove any `.show()` lines from the code. We want to return the plots instead of showing them. The Panel dashboard will then display the plots."
   ]
  },
  {
   "cell_type": "code",
   "execution_count": 8,
   "metadata": {},
   "outputs": [
    {
     "ename": "IndentationError",
     "evalue": "unexpected indent (<ipython-input-8-5bc70ff58656>, line 95)",
     "output_type": "error",
     "traceback": [
      "\u001b[1;36m  File \u001b[1;32m\"<ipython-input-8-5bc70ff58656>\"\u001b[1;36m, line \u001b[1;32m95\u001b[0m\n\u001b[1;33m    merged_sfo_data = pd.merge(df_neighborhood_locations, average_cost_by_neighborhood, left_on='Neighborhood', right_on='neighborhood')\u001b[0m\n\u001b[1;37m    ^\u001b[0m\n\u001b[1;31mIndentationError\u001b[0m\u001b[1;31m:\u001b[0m unexpected indent\n"
     ]
    }
   ],
   "source": [
    "# Define Panel Visualization Functions\n",
    "def housing_units_per_year():\n",
    "    \"\"\"Housing Units Per Year.\"\"\"\n",
    "    \n",
    "    sfo_data_group_year = sfo_data.groupby('year')\n",
    "    housing_unit_yearly_mean = sfo_data_group_year['housing_units'].mean()\n",
    "    housing_units_per_year = housing_unit_yearly_mean.hvplot.bar(ylim = (360000,390000))\n",
    "    \n",
    "    return housing_units_per_year\n",
    "\n",
    "def average_gross_rent():\n",
    "    \"\"\"Average Gross Rent in San Francisco Per Year.\"\"\"\n",
    "    \n",
    "    sfo_data_group_year = sfo_data.groupby('year')\n",
    "    sfo_ppsqfoot_rent = sfo_data_group_year['sale_price_sqr_foot', 'gross_rent'].mean()\n",
    "    average_gross_rent = sfo_ppsqfoot_rent['gross_rent'].hvplot()\n",
    "\n",
    "    return average_gross_rent\n",
    "\n",
    "\n",
    "\n",
    "def average_sales_price():\n",
    "    \"\"\"Average Sales Price Per Year.\"\"\"\n",
    "    \n",
    "    sfo_data_group_year = sfo_data.groupby('year')\n",
    "    sfo_ppsqfoot_rent = sfo_data_group_year['sale_price_sqr_foot', 'gross_rent'].mean()\n",
    "    average_sales_price = sfo_ppsqfoot_rent['sale_price_sqr_foot'].hvplot()\n",
    "\n",
    "    return average_sales_price\n",
    "\n",
    "\n",
    "\n",
    "def average_price_by_neighborhood():\n",
    "    \"\"\"Average Prices by Neighborhood.\"\"\"\n",
    "    \n",
    "    mean_neighborhood_year = sfo_data.groupby(['year', 'neighborhood']).mean()\n",
    "    average_price_by_neighborhood = mean_neighborhood_year['sale_price_sqr_foot'].hvplot('year', groupby='neighborhood', xlabel=\"Year\", ylabel=\"Price Per Square Foot\")\n",
    "\n",
    "    return average_price_by_neighborhood\n",
    "\n",
    "\n",
    "\n",
    "def top_most_expensive_neighborhoods():\n",
    "    \"\"\"Top 10 Most Expensive Neighborhoods.\"\"\"\n",
    "\n",
    "    average_cost_by_neighborhood = sfo_data.groupby('neighborhood').mean()\n",
    "    top_ten = average_cost_by_neighborhood['sale_price_sqr_foot'].sort_values(ascending=False).head(10)\n",
    "    top_most_expensive_neighborhood = top_ten.hvplot.bar(rot=45, xlabel=\"Neighborhood\", ylabel=\"Average Price Per Square Foot\")\n",
    "\n",
    "    return top_most_expensive_neighborhoods\n",
    "\n",
    "\n",
    "def most_expensive_neighborhoods_rent_sales():\n",
    "    \"\"\"Comparison of Rent and Sales Prices of Most Expensive Neighborhoods.\"\"\"   \n",
    "    \n",
    "    # YOUR CODE HERE!\n",
    "\n",
    "    \n",
    "    \n",
    "def parallel_coordinates():\n",
    "    \"\"\"Parallel Coordinates Plot.\"\"\"\n",
    "\n",
    "    average_cost_by_neighborhood = sfo_data.groupby('neighborhood').mean()\n",
    "    parallel_coordinates = px.parallel_coordinates(average_cost_by_neighborhood, color='gross_rent') \n",
    "    \n",
    "    return parallel_coordinates\n",
    "\n",
    "\n",
    "\n",
    "def parallel_categories():\n",
    "    \"\"\"Parallel Categories Plot.\"\"\"\n",
    "    \n",
    "    average_cost_by_neighborhood = sfo_data.groupby('neighborhood').mean()\n",
    "    \n",
    "    parallel_categories = px.parallel_categories(\n",
    "        average_cost_by_neighborhood,\n",
    "        dimensions=[\"sale_price_sqr_foot\", \"housing_units\", \"gross_rent\"],\n",
    "        color=\"sale_price_sqr_foot\",\n",
    "        color_continuous_scale=px.colors.sequential.Inferno,\n",
    "        labels={\n",
    "            \"sale_price_sqr_foot\": \"Sale per Square Foot\",\n",
    "            \"housing_units\": \"Number of Houses\",\n",
    "            \"gross_rent\": \"Rent\",\n",
    "        },\n",
    "        )\n",
    "\n",
    "    return parallel_categories\n",
    "\n",
    "\n",
    "\n",
    "def neighborhood_map():\n",
    "    \"\"\"Neighborhood Map.\"\"\"\n",
    "\n",
    "average_cost_by_neighborhood = sfo_data.groupby('neighborhood').mean()\n",
    "    merged_sfo_data = pd.merge(df_neighborhood_locations, average_cost_by_neighborhood, left_on='Neighborhood', right_on='neighborhood')   \n",
    "    neighborhood_map = px.scatter_mapbox(\n",
    "        merged_sfo_data,\n",
    "        lat= 'Lat',\n",
    "        lon= 'Lon',\n",
    "        size= 'housing_units',\n",
    "        color= 'gross_rent',\n",
    "        color_continuous_scale= px.colors.cyclical.IceFire,\n",
    "        title= 'Rent Price Averages in SFO',\n",
    "    )\n",
    "    return neighborhood_map\n",
    "\n",
    "def sunburst():\n",
    "    \"\"\"Sunburst Plot.\"\"\"\n",
    "    \n",
    "    # YOUR CODE HERE!\n"
   ]
  },
  {
   "cell_type": "markdown",
   "metadata": {},
   "source": [
    "## Panel Dashboard\n",
    "\n",
    "In this section, you will combine all of the plots into a single dashboard view using Panel. Be creative with your dashboard design!"
   ]
  },
  {
   "cell_type": "code",
   "execution_count": 9,
   "metadata": {},
   "outputs": [
    {
     "ename": "SyntaxError",
     "evalue": "unexpected EOF while parsing (<ipython-input-9-dc6c7da3f24c>, line 47)",
     "output_type": "error",
     "traceback": [
      "\u001b[1;36m  File \u001b[1;32m\"<ipython-input-9-dc6c7da3f24c>\"\u001b[1;36m, line \u001b[1;32m47\u001b[0m\n\u001b[1;33m    # YOUR CODE HERE!\u001b[0m\n\u001b[1;37m                     ^\u001b[0m\n\u001b[1;31mSyntaxError\u001b[0m\u001b[1;31m:\u001b[0m unexpected EOF while parsing\n"
     ]
    }
   ],
   "source": [
    "# Create a Title for the Dashboard\n",
    "import panel as pn\n",
    "pn.extension('plotly')\n",
    "import plotly.express as px\n",
    "import panel as pn\n",
    "import hvplot.pandas\n",
    "import matplotlib.pyplot as plt\n",
    "from panel.interact import interact\n",
    "from panel import widgets\n",
    "\n",
    "plot_column = pn.Column(\n",
    "    \"## Overview of SFO sales and rent market\", \n",
    "    housing_units_per_year(), \n",
    "    average_gross_rent(),\n",
    "    average_sales_price(),\n",
    "    average_price_by_neighborhood(),\n",
    ")\n",
    "\n",
    "# top_neighborhoods = pn.Column(\n",
    "#     top_most_expensive_neighborhoods(), \n",
    "# )\n",
    "# RecursionError: maximum recursion depth exceeded in comparison\n",
    "        \n",
    "\n",
    "parallel_column = pn.Column(\n",
    "    \"## How variables in the SFO Market Interact\",\n",
    "    parallel_categories(),\n",
    "    parallel_coordinates()\n",
    ")\n",
    "\n",
    "map_column = pn.Column(\n",
    "    \"## Interactive Map of the Neighborhood\",\n",
    "    neighborhood_map()\n",
    ")\n",
    "\n",
    "# Create tabs\n",
    "panel = pn.Tabs(\n",
    "    (\"Plot\", plot_column), \n",
    "    (\"Parallel\", parallel_column), \n",
    "    (\"Map\", map_column)\n",
    "\n",
    "# Create a tab layout for the dashboard\n",
    "# YOUR CODE HERE!\n",
    "\n",
    "\n",
    "# Create the dashboard\n",
    "# YOUR CODE HERE!"
   ]
  },
  {
   "cell_type": "markdown",
   "metadata": {},
   "source": [
    "## Serve the Panel Dashboard"
   ]
  },
  {
   "cell_type": "code",
   "execution_count": 10,
   "metadata": {},
   "outputs": [
    {
     "ename": "NameError",
     "evalue": "name 'panel' is not defined",
     "output_type": "error",
     "traceback": [
      "\u001b[1;31m---------------------------------------------------------------------------\u001b[0m",
      "\u001b[1;31mNameError\u001b[0m                                 Traceback (most recent call last)",
      "\u001b[1;32m<ipython-input-10-699198a4f4fe>\u001b[0m in \u001b[0;36m<module>\u001b[1;34m\u001b[0m\n\u001b[0;32m      1\u001b[0m \u001b[1;31m# Serve the# dashboard\u001b[0m\u001b[1;33m\u001b[0m\u001b[1;33m\u001b[0m\u001b[1;33m\u001b[0m\u001b[0m\n\u001b[1;32m----> 2\u001b[1;33m \u001b[0mpanel\u001b[0m\u001b[1;33m.\u001b[0m\u001b[0mservable\u001b[0m\u001b[1;33m(\u001b[0m\u001b[1;33m)\u001b[0m\u001b[1;33m\u001b[0m\u001b[1;33m\u001b[0m\u001b[0m\n\u001b[0m",
      "\u001b[1;31mNameError\u001b[0m: name 'panel' is not defined"
     ]
    }
   ],
   "source": [
    "# Serve the# dashboard\n",
    "panel.servable()\n"
   ]
  },
  {
   "cell_type": "markdown",
   "metadata": {},
   "source": [
    "# Debugging\n",
    "\n",
    "Note: Some of the Plotly express plots may not render in the notebook through the panel functions.\n",
    "\n",
    "However, you can test each plot by uncommenting the following code"
   ]
  },
  {
   "cell_type": "code",
   "execution_count": null,
   "metadata": {},
   "outputs": [],
   "source": [
    "housing_units_per_year()"
   ]
  },
  {
   "cell_type": "code",
   "execution_count": null,
   "metadata": {},
   "outputs": [],
   "source": [
    "# average_gross_rent()"
   ]
  },
  {
   "cell_type": "code",
   "execution_count": null,
   "metadata": {},
   "outputs": [],
   "source": [
    "# average_sales_price()"
   ]
  },
  {
   "cell_type": "code",
   "execution_count": null,
   "metadata": {},
   "outputs": [],
   "source": [
    "# average_price_by_neighborhood()"
   ]
  },
  {
   "cell_type": "code",
   "execution_count": null,
   "metadata": {},
   "outputs": [],
   "source": [
    "# top_most_expensive_neighborhoods()"
   ]
  },
  {
   "cell_type": "code",
   "execution_count": null,
   "metadata": {},
   "outputs": [],
   "source": [
    "# most_expensive_neighborhoods_rent_sales()"
   ]
  },
  {
   "cell_type": "code",
   "execution_count": null,
   "metadata": {},
   "outputs": [],
   "source": [
    "# neighborhood_map().show()"
   ]
  },
  {
   "cell_type": "code",
   "execution_count": null,
   "metadata": {},
   "outputs": [],
   "source": [
    "# parallel_categories()"
   ]
  },
  {
   "cell_type": "code",
   "execution_count": null,
   "metadata": {},
   "outputs": [],
   "source": [
    "# parallel_coordinates()"
   ]
  },
  {
   "cell_type": "code",
   "execution_count": null,
   "metadata": {},
   "outputs": [],
   "source": [
    "# sunburst()"
   ]
  },
  {
   "cell_type": "code",
   "execution_count": null,
   "metadata": {},
   "outputs": [],
   "source": []
  }
 ],
 "metadata": {
  "file_extension": ".py",
  "kernelspec": {
   "display_name": "Python [conda env:myenv] *",
   "language": "python",
   "name": "conda-env-myenv-py"
  },
  "language_info": {
   "codemirror_mode": {
    "name": "ipython",
    "version": 3
   },
   "file_extension": ".py",
   "mimetype": "text/x-python",
   "name": "python",
   "nbconvert_exporter": "python",
   "pygments_lexer": "ipython3",
   "version": "3.7.10"
  },
  "mimetype": "text/x-python",
  "name": "python",
  "npconvert_exporter": "python",
  "pygments_lexer": "ipython3",
  "version": 3
 },
 "nbformat": 4,
 "nbformat_minor": 4
}
